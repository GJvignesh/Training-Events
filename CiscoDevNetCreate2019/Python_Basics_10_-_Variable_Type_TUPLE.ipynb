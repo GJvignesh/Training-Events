{
 "cells": [
  {
   "cell_type": "markdown",
   "metadata": {},
   "source": [
    "<a href='https://devnetcreate.io/2019'><img src='https://github.com/ProsperousHeart/Personal-Projects/blob/master/CiscoDevNetCreate2019/IMGs/CiscoDevNetCreate2019.jpg?raw=true'></a>"
   ]
  },
  {
   "cell_type": "markdown",
   "metadata": {},
   "source": [
    "# Tuples\n",
    "\n",
    "Tuples are a sequence of immuteable (**read only**) data similar to a list. Instead of enclosed in brackets, they're enclosed in parentheses.\n",
    "\n",
    "**NOTE:**  any set of multiple comma-separated objects written without identifying symbols default to tuples.\n",
    "\n",
    "<div class=\"alert alert-success\">\n",
    "<b>Try this!</b>\n",
    "\n",
    "```python\n",
    "new_tuple = ('abcd', 786, 2.23, 'John', 70.2)\n",
    "tiny_tuple = (123, \"Susan\")\n",
    "print(new_tuple, tiny_tuple)\n",
    "```\n",
    "</div>"
   ]
  },
  {
   "cell_type": "code",
   "execution_count": null,
   "metadata": {},
   "outputs": [],
   "source": [
    "new_tuple = ('abcd', 786, 2.23, 'John', 70.2)\n",
    "tiny_tuple = (123, \"Susan\")\n",
    "print(new_tuple, tiny_tuple)"
   ]
  },
  {
   "cell_type": "markdown",
   "metadata": {},
   "source": [
    "<div class=\"alert alert-success\">\n",
    "<b>Try this!</b>\n",
    "\n",
    "```python\n",
    "new_tuple[3]\n",
    "```\n",
    "\n",
    "<b>... then this:</b>\n",
    "```python\n",
    "new_tuple[3:]\n",
    "```\n",
    "</div>"
   ]
  },
  {
   "cell_type": "code",
   "execution_count": null,
   "metadata": {},
   "outputs": [],
   "source": [
    "new_tuple[3]"
   ]
  },
  {
   "cell_type": "code",
   "execution_count": null,
   "metadata": {},
   "outputs": [],
   "source": [
    "new_tuple[3:]"
   ]
  },
  {
   "cell_type": "markdown",
   "metadata": {},
   "source": [
    "<div class=\"alert alert-success\">\n",
    "<b>Try this!</b>\n",
    "\n",
    "```python\n",
    "print(new_tuple * 2)\n",
    "print(new_tuple)\n",
    "```\n",
    "</div>"
   ]
  },
  {
   "cell_type": "code",
   "execution_count": null,
   "metadata": {},
   "outputs": [],
   "source": [
    "print(new_tuple * 2)\n",
    "print(new_tuple)"
   ]
  },
  {
   "cell_type": "markdown",
   "metadata": {},
   "source": [
    "<div class=\"alert alert-success\">\n",
    "<b>Try this!</b>\n",
    "\n",
    "```python\n",
    "print(new_tuple + tiny_tuple)\n",
    "```\n",
    "</div>"
   ]
  },
  {
   "cell_type": "code",
   "execution_count": null,
   "metadata": {},
   "outputs": [],
   "source": [
    "print(new_tuple + tiny_tuple)"
   ]
  },
  {
   "cell_type": "markdown",
   "metadata": {},
   "source": [
    "<div class=\"alert alert-success\">\n",
    "<b>Try this!</b>\n",
    "\n",
    "```python\n",
    "print(\"Is 70.2 in new_tuple?\\t{}\".format(70.2 in new_tuple))\n",
    "print(\"Is 70 in new_tuple?\\t{}\".format(70 in new_tuple))\n",
    "```\n",
    "\n",
    "<b>... then this:</b>\n",
    "```python\n",
    "for item in new_tuple:\n",
    "    print(item)\n",
    "```\n",
    "</div>"
   ]
  },
  {
   "cell_type": "code",
   "execution_count": null,
   "metadata": {},
   "outputs": [],
   "source": [
    "print(\"Is 70.2 in new_tuple?\\t{}\".format(70.2 in new_tuple))\n",
    "print(\"Is 70 in new_tuple?\\t{}\".format(70 in new_tuple))"
   ]
  },
  {
   "cell_type": "code",
   "execution_count": null,
   "metadata": {},
   "outputs": [],
   "source": [
    "for item in new_tuple:\n",
    "    print(item)"
   ]
  },
  {
   "cell_type": "markdown",
   "metadata": {},
   "source": [
    "<div class=\"alert alert-info\">\n",
    "<b>\"But I heard you could change tuple elements?\"</b>\n",
    "\n",
    "No. Whatever you have in the element of a tuple does not change. You cannot replace it or swap it out.\n",
    "    \n",
    "<b><i>However</i></b> ... If the element within that tuple is an object that you can update it's elements, then yes - the \"tuple can be updated\" - but not really.\n",
    "\n",
    "For example ... try this:\n",
    "    \n",
    "```python\n",
    "new_tuple = ('abcd', [786, 2.23], 'John', {'key1': 1, 'key2': \"sure\"})\n",
    "print(new_tuple)\n",
    "new_tuple[1].append(\"fun\")\n",
    "print(new_tuple)\n",
    "new_tuple[3]['key1'] = \"How's this?\"\n",
    "print(new_tuple)\n",
    "```\n",
    "    \n",
    "```python\n",
    "new_tuple = ('abcd', [786, 2.23], 'John', {'key1': 1, 'key2': \"sure\"})\n",
    "print(new_tuple)\n",
    "new_tuple[1] = [786, 2.23]\n",
    "```\n",
    "</div>"
   ]
  },
  {
   "cell_type": "code",
   "execution_count": null,
   "metadata": {},
   "outputs": [],
   "source": [
    "new_tuple = ('abcd', [786, 2.23], 'John', {'key1': 1, 'key2': \"sure\"})\n",
    "print(new_tuple)\n",
    "new_tuple[1].append(\"fun\")\n",
    "print(new_tuple)\n",
    "new_tuple[3]['key1'] = \"How's this?\"\n",
    "print(new_tuple)"
   ]
  },
  {
   "cell_type": "code",
   "execution_count": null,
   "metadata": {},
   "outputs": [],
   "source": [
    "new_tuple = ('abcd', [786, 2.23], 'John', {'key1': 1, 'key2': \"sure\"})\n",
    "print(new_tuple)\n",
    "new_tuple[1] = [786, 2.23]"
   ]
  },
  {
   "cell_type": "markdown",
   "metadata": {},
   "source": [
    "## Deletion Of Items In A Tuple\n",
    "\n",
    "Quite simply - just not possible. In order to \"delete\" an item, you would need to create a new tuple with only the elements you are looking to create.\n",
    "\n",
    "<div class=\"alert alert-success\">\n",
    "<b>Try this!</b>\n",
    "\n",
    "```python\n",
    "new_tuple = new_tuple[:4] + tiny_tuple\n",
    "print(new_tuple)\n",
    "```\n",
    "</div>"
   ]
  },
  {
   "cell_type": "code",
   "execution_count": null,
   "metadata": {},
   "outputs": [],
   "source": [
    "new_tuple = new_tuple[:4] + tiny_tuple\n",
    "print(new_tuple)"
   ]
  }
 ],
 "metadata": {
  "kernelspec": {
   "display_name": "Python 3",
   "language": "python",
   "name": "python3"
  },
  "language_info": {
   "codemirror_mode": {
    "name": "ipython",
    "version": 3
   },
   "file_extension": ".py",
   "mimetype": "text/x-python",
   "name": "python",
   "nbconvert_exporter": "python",
   "pygments_lexer": "ipython3",
   "version": "3.7.7"
  }
 },
 "nbformat": 4,
 "nbformat_minor": 2
}
