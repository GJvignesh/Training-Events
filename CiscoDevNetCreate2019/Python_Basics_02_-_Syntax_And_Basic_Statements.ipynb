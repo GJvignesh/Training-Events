{
 "cells": [
  {
   "cell_type": "markdown",
   "metadata": {},
   "source": [
    "<a href='https://devnetcreate.io/2019'><img src='https://github.com/ProsperousHeart/Personal-Projects/blob/master/CiscoDevNetCreate2019/IMGs/CiscoDevNetCreate2019.jpg?raw=true'></a>"
   ]
  },
  {
   "cell_type": "markdown",
   "metadata": {},
   "source": [
    "# Code Blocks, Suites, And Headers\n",
    "\n",
    "A **code block** is a block of code that does some action.\n",
    "\n",
    "A **suite** is a group of individual statements that make up code blocks.\n",
    "\n",
    "The **header line** is either the beginning of a function or logic statement.\n",
    "\n",
    "Here's a pseudo code example using logic statements as the header lines:\n",
    "\n",
    "```python\n",
    "if expression:\n",
    "    suite\n",
    "elif expression:\n",
    "    suite\n",
    "else:\n",
    "    suite\n",
    "```\n",
    "\n",
    "More on logic statements can be found in the [Decision Making](Python_Basics_05_-_Decision_Making.ipynb) section"
   ]
  },
  {
   "cell_type": "markdown",
   "metadata": {},
   "source": [
    "# Indentation\n",
    "\n",
    "Unlike Java, blocks of code are denoted by line indentation instead of curly braces.\n",
    "\n",
    "```python\n",
    "x = 1\n",
    "if x == 1:\n",
    "    print('x is 1')\n",
    "```\n",
    "\n",
    "All statements within a **code block** MUST be indented the same amount with 4 spaces per indentation! (Unless it's a code block within a code block - then you just add 4 more spaces per sub-block.)\n",
    "\n",
    "```python\n",
    "a = 1\n",
    "if a < 2:\n",
    "    print('less than 2')\n",
    "    if a > 0:\n",
    "        print('greater than 0')\n",
    "    else:\n",
    "        print('negative number')\n",
    "```"
   ]
  },
  {
   "cell_type": "markdown",
   "metadata": {},
   "source": [
    "# Multi-Line Statements\n",
    "\n",
    "Typically python code ends a new line with a new line character. But it does provide the ability for [Multi-Line Statements](http://www.tutorialspoint.com/python3/python_basic_syntax.htm).\n",
    "\n",
    "1. Using `\\` will allow a really long line (over 80 characters) to be split into multiple lines of your code (but when you print will show as a single line).\n",
    "\n",
    "\n",
    "2. Statements contained in `[]`, `{}`, or `()`\n",
    "\n",
    "\n",
    "3. Using triple quotes:\n",
    "    - `\"\"\"some text here\"\"\"`\n",
    "    - `'''some text here'''`\n",
    "\n",
    "<div class=\"alert alert-success\">\n",
    "<b>Try this!</b>\n",
    "\n",
    "```python\n",
    "# example of long lines\n",
    "temp_str = \"This is a really long string of characters \" \\\n",
    "            \"using the single use quotes (\\\" or \\').\" \\\n",
    "            \" 80 characters is not a hard limit, but does ensure \" \\\n",
    "            \"your code is pythonic.\"\n",
    "print(temp_str)\n",
    "```\n",
    "    \n",
    "```python\n",
    "# example of enclosure of statements\n",
    "temp_str = [\"This is a really long string of characters \"\n",
    "            \"using the single use quotes (\\\" or \\').\"\n",
    "            \" 80 characters is not a hard limit, but does ensure \"\n",
    "            \"your code is pythonic.\"]\n",
    "print(temp_str)\n",
    "```\n",
    "    \n",
    "\n",
    "```python\n",
    "# example of triple quotes\n",
    "temp_str = \"\"\"This is a really long string of characters \n",
    "            using the single use quotes (\\\" or \\').\n",
    "             80 characters is not a hard limit, but does ensure \n",
    "            your code is pythonic.\"\"\"\n",
    "print(temp_str)\n",
    "```\n",
    "</div>"
   ]
  },
  {
   "cell_type": "code",
   "execution_count": null,
   "metadata": {},
   "outputs": [],
   "source": [
    "# example of long lines\n",
    "temp_str = \"This is a really long string of characters \" \\\n",
    "            \"using the single use quotes (\\\" or \\').\" \\\n",
    "            \" 80 characters is not a hard limit, but does ensure \" \\\n",
    "            \"your code is pythonic.\"\n",
    "print(temp_str)"
   ]
  },
  {
   "cell_type": "code",
   "execution_count": null,
   "metadata": {},
   "outputs": [],
   "source": [
    "# example of enclosure of statements\n",
    "temp_str = {\"This is a really long string of characters \"\n",
    "            \"using the single use quotes (\\\" or \\').\"\n",
    "            \" 80 characters is not a hard limit, but does ensure \"\n",
    "            \"your code is pythonic.\"}\n",
    "print(temp_str)"
   ]
  },
  {
   "cell_type": "markdown",
   "metadata": {},
   "source": [
    "<div class=\"alert alert-warning\">\n",
    "Notice anything strange about the above?\n",
    "</div>"
   ]
  },
  {
   "cell_type": "code",
   "execution_count": null,
   "metadata": {},
   "outputs": [],
   "source": [
    "# example of triple quotes\n",
    "temp_str = \"\"\"This is a really long string of characters \n",
    "            using the single use quotes (\\\" or \\').\n",
    "             80 characters is not a hard limit, but does ensure \n",
    "            your code is pythonic.\"\"\"\n",
    "print(temp_str)"
   ]
  },
  {
   "cell_type": "markdown",
   "metadata": {},
   "source": [
    "<div class=\"alert alert-warning\">\n",
    "What's different about the above?\n",
    "</div>"
   ]
  },
  {
   "cell_type": "markdown",
   "metadata": {},
   "source": [
    "# Comments\n",
    "\n",
    "There is **only one way** to comment - using a `#` will make a line a comment.\n",
    "\n",
    "Some people say you can use tripe quotes:\n",
    "- `'''something here'''`\n",
    "- `\"\"\"something here\"\"\"`\n",
    "\n",
    "In order to comment - this is **not** the case. This is only used to create documentation (or [docstrings](https://www.python.org/dev/peps/pep-0257)). This creates a **string object** so therefore it _does not_ create a comment.\n",
    "\n",
    "<div class=\"alert alert-warning\">\n",
    "Think about what the above code looks like versus the other multi-string options. How does that fit in with this documentation vs comments?\n",
    "</div>"
   ]
  },
  {
   "cell_type": "markdown",
   "metadata": {},
   "source": [
    "# Print Statements\n",
    "\n",
    "**Print statements** allow you to print data. This can be any data type, but be aware of how you need to print said data.\n",
    "\n",
    "`print(some_info)`\n",
    "\n",
    "And you can also do some pretty cool string formatting with this, but that will come later."
   ]
  },
  {
   "cell_type": "markdown",
   "metadata": {},
   "source": [
    "## Hello World\n",
    "\n",
    "This is where you will be able to create your very first program:  `Hello World!`\n",
    "\n",
    "In every programming language, this is generally the very first thing you must do in order to ensure you can make even more extensive programs.\n",
    "\n",
    "When you are able to successfully do this, you know you have properly installed everything you need for the time being.\n",
    "\n",
    "<div class=\"alert alert-warning\">\n",
    "<b>Pop quiz!</b>\n",
    "<br>How do you confirm proper installation in Python?\n",
    "</div>\n",
    "\n",
    "<div class=\"alert alert-success\">\n",
    "<b>Try this!</b>\n",
    "\n",
    "```python\n",
    "print('Hello World!')\n",
    "```\n",
    "</div>"
   ]
  },
  {
   "cell_type": "code",
   "execution_count": null,
   "metadata": {},
   "outputs": [],
   "source": [
    "print('Hello World!')"
   ]
  },
  {
   "cell_type": "markdown",
   "metadata": {},
   "source": [
    "## Things To Know About print()\n",
    "\n",
    "After every print statement, a newline character is added.\n",
    "\n",
    "<div class=\"alert alert-success\">\n",
    "<b>Try this!</b>\n",
    "\n",
    "```python\n",
    "print('Line 1')\n",
    "print()    # prints \"\\n\" (newline)\n",
    "print('Line 3')\n",
    "```\n",
    "</div>"
   ]
  },
  {
   "cell_type": "code",
   "execution_count": null,
   "metadata": {},
   "outputs": [],
   "source": [
    "print('Line 1')\n",
    "print()    # prints \"\\n\" (newline)\n",
    "print('Line 3')"
   ]
  },
  {
   "cell_type": "markdown",
   "metadata": {},
   "source": [
    "The **print** function can pass in 0 or more expressions, however you need to have a `,` in between.\n",
    "\n",
    "If using the comma, it will print each piece of data on the same line separated by a space.\n",
    "\n",
    "<div class=\"alert alert-success\">\n",
    "<b>Try this!</b>\n",
    "\n",
    "```python\n",
    "print(1, \"two\")\n",
    "```\n",
    "</div>"
   ]
  },
  {
   "cell_type": "code",
   "execution_count": null,
   "metadata": {},
   "outputs": [],
   "source": [
    "print(1, \"two\")"
   ]
  },
  {
   "cell_type": "markdown",
   "metadata": {},
   "source": [
    "## Final Thoughts\n",
    "\n",
    "In **_python2_** the **print** function did not require parentheses.\n",
    "\n",
    "*python2*:  `print \"This line will be printed\"`\n",
    "\n",
    "*python3*:  `print(\"This line will be printed\")`\n",
    "\n",
    "By doing this, **python3** was able to move towards a better representation to show that print was a function - something that we will cover later on.\n",
    "\n",
    "<hr>"
   ]
  },
  {
   "cell_type": "markdown",
   "metadata": {},
   "source": [
    "# Assignment Statements\n",
    "\n",
    "These kinds of statements are assigning a label (or variable name) to a set of data.\n",
    "\n",
    "In other words, a **variable** name points to a *specific section of memory* that holds some data.\n",
    "\n",
    "A **label** is simply a way to refer to that **variable**.\n",
    "\n",
    "One thing to keep in mind? Python, like several other programming languages, reads information starting from right to left.\n",
    "\n",
    "For example:  `a = 1`\n",
    "\n",
    "The above statement reads as:<br>\n",
    "*`int` 1 is assigned to the variable name (label) `a`*\n",
    "\n",
    "\n",
    "## Easily Create New Tuples!\n",
    "\n",
    "If you add a comma to multiple items on the right side, Python will convert the data to a [tuple](Python_Basics_10_-_Variable_Type_TUPLE.ipynb).\n",
    "\n",
    "<div class=\"alert alert-success\">\n",
    "<b>Try this!</b>\n",
    "\n",
    "```python\n",
    "a = 1, 2    # this is an assignment statement\n",
    "a           # this is just to show you what is in 'a' & is NOT the same as printing\n",
    "```\n",
    "</div>"
   ]
  },
  {
   "cell_type": "code",
   "execution_count": null,
   "metadata": {},
   "outputs": [],
   "source": [
    "a = 1, 2\n",
    "a"
   ]
  },
  {
   "cell_type": "markdown",
   "metadata": {},
   "source": [
    "<div class=\"alert alert-success\">\n",
    "<b>Try this!</b>\n",
    "\n",
    "```python\n",
    "b = \"this\"\n",
    "c = \"that\"\n",
    "a = a, b, c\n",
    "a\n",
    "```\n",
    "</div>"
   ]
  },
  {
   "cell_type": "code",
   "execution_count": null,
   "metadata": {},
   "outputs": [],
   "source": [
    "b = \"this\"\n",
    "c = \"that\"\n",
    "a = a, b, c\n",
    "a"
   ]
  },
  {
   "cell_type": "markdown",
   "metadata": {},
   "source": [
    "## Single Assignment Statements\n",
    "\n",
    "These are the ones you will normally see in most code. It's clean and precise.\n",
    "\n",
    "<div class=\"alert alert-success\">\n",
    "<b>Try this!</b>\n",
    "\n",
    "```python\n",
    "variableName = \"This is of variable type string.\"\n",
    "variableName    # this is not a print statement (next section)\n",
    "```\n",
    "</div>"
   ]
  },
  {
   "cell_type": "code",
   "execution_count": null,
   "metadata": {},
   "outputs": [],
   "source": [
    "variableName = \"This is of variable type string.\"\n",
    "variableName"
   ]
  },
  {
   "cell_type": "markdown",
   "metadata": {},
   "source": [
    "## Multiple Assignment Statements\n",
    "\n",
    "There are 2 different ways you can utilize multiple assignment statement options.\n",
    "\n",
    "### One Variable, Multiple Labels\n",
    "\n",
    "In this instance, \"variable\" refers to a memory location. And \"label\" refers to the name that references that location.\n",
    "\n",
    "<div class=\"alert alert-warning\"><b>NOTE:</b>  the <code>is</code> keyword is used to test if two variables refer to the same memory location, while the comparison operator or <code>==</code> is used to compare if the two variables are equivalent. This is really important to understand, because this lack of knowledge can turn your program into a potential resource hog.</div>\n",
    "\n",
    "<div class=\"alert alert-success\">\n",
    "<b>Try this!</b>\n",
    "\n",
    "```python\n",
    "a = b = c = 1\n",
    "print(a)\n",
    "print(b)\n",
    "print(c)\n",
    "print(a==b)\n",
    "print(a is b)     # does this point to the same memory location? why?\n",
    "```\n",
    "```python\n",
    "d = 1\n",
    "print(a==d)\n",
    "print(a is d)    # does it point to the same memory location? why?\n",
    "```\n",
    "</div>"
   ]
  },
  {
   "cell_type": "code",
   "execution_count": null,
   "metadata": {},
   "outputs": [],
   "source": [
    "a = b = c = 1\n",
    "print(a)\n",
    "print(b)\n",
    "print(c)\n",
    "print(a==b)\n",
    "print(a is b) "
   ]
  },
  {
   "cell_type": "code",
   "execution_count": null,
   "metadata": {},
   "outputs": [],
   "source": [
    "d = 1\n",
    "print(a==d)\n",
    "print(a is d)"
   ]
  },
  {
   "cell_type": "markdown",
   "metadata": {},
   "source": [
    "<div class=\"alert alert-warning\">\n",
    "Does the above point to the same memory location?\n",
    "</div>\n",
    "\n",
    "You may also want to take a peak at [Identity Operators](Python_Basics_04_-_Operators.ipynb#Identity-Operators).\n",
    "\n",
    "<div class=\"alert alert-success\">\n",
    "<b>Try this!</b>\n",
    "\n",
    "```python\n",
    "a = \"one\"\n",
    "d = \"two\"\n",
    "print(a==d)\n",
    "print(a is d)\n",
    "```\n",
    "\n",
    "```python\n",
    "x = [\"apple\", \"banana\", \"cherry\"]\n",
    "y = [\"apple\", \"banana\", \"cherry\"]\n",
    "print(x == y)\n",
    "print(x is y)\n",
    "```\n",
    "</div>"
   ]
  },
  {
   "cell_type": "code",
   "execution_count": null,
   "metadata": {},
   "outputs": [],
   "source": [
    "a = \"one\"\n",
    "d = \"two\"\n",
    "print(a==d)\n",
    "print(a is d)"
   ]
  },
  {
   "cell_type": "code",
   "execution_count": null,
   "metadata": {},
   "outputs": [],
   "source": [
    "x = [\"apple\", \"banana\", \"cherry\"]\n",
    "y = [\"apple\", \"banana\", \"cherry\"]\n",
    "print(x == y)\n",
    "print(\"x is y:  \", x is y)\n",
    "\n",
    "y = x\n",
    "print(\"x is y:  \", x is y)"
   ]
  },
  {
   "cell_type": "markdown",
   "metadata": {},
   "source": [
    "Be sure you are aware of the differences shown here!\n",
    "\n",
    "Be mindful of how you label things and their [scope](Python_Basics_15_-_Scope_Of_Variables.ipynb). Not only could it be a resource hog, but you may change your data along the way accidentally."
   ]
  },
  {
   "cell_type": "markdown",
   "metadata": {},
   "source": [
    "### Each Label Is Assigned To A Different Memory Location (Variable)\n",
    "\n",
    "Pretty straight forward but might look something like this ...\n",
    "\n",
    "<div class=\"alert alert-success\">\n",
    "<b>Try this!</b>\n",
    "\n",
    "```python\n",
    "a, b, c = 1, 2, \"John\"\n",
    "print(a)\n",
    "print(b)\n",
    "print(c)\n",
    "```\n",
    "```python\n",
    "*a, b = 1, 2, \"John\"\n",
    "print(\"a:  \", a, \"\\nb:  \", b)\n",
    "```\n",
    "```python\n",
    "a, *b = 1, 2, \"John\"\n",
    "print(\"a:  {}\\nb:  {}\".format(a, b))\n",
    "```\n",
    "</div>\n",
    "\n",
    "<div class=\"alert alert-warning\">\n",
    "Consider checking out star unpacking in <a href=\"https://github.com/ProsperousHeart/TrainingUsingJupyter/blob/master/Python/Recipes/Data%20Structures%20And%20Algorithms%2000%20-%20Unpacking%20And%20Deque.ipynb\">this Jupyter notebook</a> (it's suggested you download and run from your machine).\n",
    "</div>"
   ]
  },
  {
   "cell_type": "markdown",
   "metadata": {},
   "source": [
    "You can find more on string formatting [here](Python_Basics_08_-_Variable_Type_STRING.ipynb#String-Formatting)."
   ]
  },
  {
   "cell_type": "code",
   "execution_count": null,
   "metadata": {},
   "outputs": [],
   "source": [
    "a, b, c = 1, 2, \"John\"\n",
    "print(a)\n",
    "print(b)\n",
    "print(c)"
   ]
  },
  {
   "cell_type": "code",
   "execution_count": null,
   "metadata": {},
   "outputs": [],
   "source": [
    "*a, b = 1, 2, \"John\"\n",
    "print(\"a:  \", a, \"\\nb:  \", b)"
   ]
  },
  {
   "cell_type": "code",
   "execution_count": null,
   "metadata": {},
   "outputs": [],
   "source": [
    "a, *b = 1, 2, \"John\"\n",
    "print(\"a:  {}\\nb:  {}\".format(a, b))"
   ]
  }
 ],
 "metadata": {
  "kernelspec": {
   "display_name": "Python 3",
   "language": "python",
   "name": "python3"
  },
  "language_info": {
   "codemirror_mode": {
    "name": "ipython",
    "version": 3
   },
   "file_extension": ".py",
   "mimetype": "text/x-python",
   "name": "python",
   "nbconvert_exporter": "python",
   "pygments_lexer": "ipython3",
   "version": "3.7.7"
  }
 },
 "nbformat": 4,
 "nbformat_minor": 2
}
