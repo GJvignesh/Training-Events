{
 "cells": [
  {
   "cell_type": "markdown",
   "metadata": {},
   "source": [
    "<a href='https://devnetcreate.io/2019'><img src='https://github.com/ProsperousHeart/Personal-Projects/blob/master/CiscoDevNetCreate2019/IMGs/CiscoDevNetCreate2019.jpg?raw=true'></a>"
   ]
  },
  {
   "cell_type": "markdown",
   "metadata": {},
   "source": [
    "# [Dictionaries](http://www.learnpython.org/en/Dictionaries)\n",
    "\n",
    "There are other things like [NamedTuples](https://docs.python.org/3/library/collections.html#collections.namedtuple) or [DefaultDict](https://docs.python.org/3/library/collections.html#collections.defaultdict) (both from the [collections](https://docs.python.org/3/library/collections.html) library) you can use, however there are some great options when using dictionaries that you can't when using NamedTuples. (And DefaultDict limits your options for dictionary use - but it has it's purpose!)\n",
    "\n",
    "## Structure\n",
    "\n",
    "The **dictionary** documentation can be found [here](https://docs.python.org/3/tutorial/datastructures.html#dictionaries). It is a data set that is distinguished by the `{}` braces (similar to a set) but has a key and value pair.\n",
    "\n",
    "Each key **must** be unique. _(**NOTE:**  last assignment to a key wins!)_\n",
    "\n",
    "One of the things I love about programming is that there is no one right way to code.\n",
    "\n",
    "Here I will share with you 3 ways you can create a dictionary.<hr>"
   ]
  },
  {
   "cell_type": "markdown",
   "metadata": {},
   "source": [
    "### Create Dict Option 1\n",
    "\n",
    "Unlike sequences (like **strings**, **lists**, and **tuples**) indexed by a range of numbers? Items within a dictionary are indexed by keys.\n",
    "\n",
    "<div class=\"alert alert-success\">\n",
    "<b>Try this!</b>\n",
    "\n",
    "```python\n",
    "new_dict = dict()\n",
    "new_dict['some_key'] = \"Whatever you want here. Any data type. PEP8 says should all be the same, but that's a style guideline.\"\n",
    "new_dict[4] = 4\n",
    "```\n",
    "</div>"
   ]
  },
  {
   "cell_type": "code",
   "execution_count": null,
   "metadata": {},
   "outputs": [],
   "source": [
    "new_dict = dict()\n",
    "new_dict['some_key'] = \"Whatever you want here. Any data type. PEP8 says should all be the same, but that's a style guideline.\"\n",
    "new_dict[4] = 4\n",
    "print(new_dict)"
   ]
  },
  {
   "cell_type": "markdown",
   "metadata": {},
   "source": [
    "### Create Dict Option 2\n",
    "\n",
    "<div class=\"alert alert-success\">\n",
    "<b>Try this!</b>\n",
    "\n",
    "```python\n",
    "new_dict2 = {'sum things': [\"Go Here\", ]}\n",
    "print(new_dict2)\n",
    "```\n",
    "</div>\n",
    "\n",
    "If there is more than one item in a dictionary, then they will be separated by a comma."
   ]
  },
  {
   "cell_type": "code",
   "execution_count": null,
   "metadata": {},
   "outputs": [],
   "source": [
    "new_dict2 = {'sum things': [\"Go Here\", ]}\n",
    "print(new_dict2)"
   ]
  },
  {
   "cell_type": "markdown",
   "metadata": {},
   "source": [
    "### Create Dict Option 3\n",
    "\n",
    "Another great way to create a dictionary is by using keyword arguments:<br>\n",
    "\n",
    "<div class=\"alert alert-success\">\n",
    "<b>Try this!</b>\n",
    "\n",
    "```python\n",
    "dict(sape=4139, guido=4127, jack=4098)\n",
    "```\n",
    "</div>"
   ]
  },
  {
   "cell_type": "code",
   "execution_count": null,
   "metadata": {},
   "outputs": [],
   "source": [
    "dict(sape=4139, guido=4127, jack=4098)"
   ]
  },
  {
   "cell_type": "markdown",
   "metadata": {},
   "source": [
    "## Things To Keep In Mind\n",
    "\n",
    "You cannot use a list as a key. Keys must be immutable like **strings** and **numbers**.\n",
    "\n",
    "A dictionary is _kind of_ like a [set](https://docs.python.org/3/tutorial/datastructures.html#sets) in that if you try to create multiple keys with the same value? It will only keep 1 key / value pair.\n",
    "\n",
    "The last one.\n",
    "\n",
    "Prior to 3.6 they were also unordered ... Rumor has it that [this was changed in 3.6 version](https://docs.python.org/3/whatsnew/3.6.html)! ;)\n",
    "\n",
    "## Built-In Methods\n",
    "\n",
    "Be sure to check out the structure of a **dictionary** [here](https://docs.python.org/3.3/library/stdtypes.html#dict)!\n",
    "\n",
    "When you utilize these documents, you provide yourself the ability to do more. \n",
    "\n",
    "How? \n",
    "\n",
    "Because you know what's already available and won't have to reinvent the wheel!"
   ]
  },
  {
   "cell_type": "markdown",
   "metadata": {},
   "source": [
    "## Dict Comprehensions\n",
    "\n",
    "Like list comprehensions, this provides you the ability to create dictionaries from some arbitrary (seemingly random) key and value expressions. For example:\n",
    "\n",
    "<div class=\"alert alert-success\">\n",
    "<b>Try this!</b>\n",
    "\n",
    "```python\n",
    "{x: x**2 for x in (2, 4, 6)}\n",
    "```\n",
    "</div>"
   ]
  },
  {
   "cell_type": "code",
   "execution_count": null,
   "metadata": {},
   "outputs": [],
   "source": [
    "{x: x**2 for x in (2, 4, 6)}"
   ]
  },
  {
   "cell_type": "markdown",
   "metadata": {},
   "source": [
    "<div class=\"alert alert-success\">\n",
    "<b>Try this!</b>\n",
    "\n",
    "```python\n",
    "tmp_tup = ('a','b','c')\n",
    "{tmp_tup[idx]: x for idx, x in enumerate((2, 4, 6))}\n",
    "```\n",
    "</div>\n",
    "\n",
    "<div class=\"alert alert-warning\">\n",
    "NOTE:  This exercise can also be done using <a href=\"https://docs.python.org/3.3/library/functions.html#zip\">zip() function</a> but I wanted to provide another dict comprehension example.\n",
    "</div>"
   ]
  },
  {
   "cell_type": "code",
   "execution_count": null,
   "metadata": {},
   "outputs": [],
   "source": [
    "tmp_tup = ('a','b','c')\n",
    "{tmp_tup[idx]: x for idx, x in enumerate((2, 4, 6))}"
   ]
  },
  {
   "cell_type": "markdown",
   "metadata": {},
   "source": [
    "## Add & Update\n",
    "\n",
    "Here are some ways with which you can interact with a dictionary.\n",
    "\n",
    "<div class=\"alert alert-success\">\n",
    "<b>Try this!</b>\n",
    "\n",
    "```python\n",
    "dict = {'Name': 'Zara', 'Age': 7, 'Class': 'First'}\n",
    "print(dict)\n",
    "dict['Age'] = 8\t \t\t\t\t\t\t# update existing entry\n",
    "print(dict)\n",
    "dict['School'] = \"DPS School\"\t\t\t# Add new entry\n",
    "print(dict)\n",
    "print(\"dict['Age']: \", dict['Age']) \t#Prints value at key ‘Age’\n",
    "print(dict)\t\t\t\t\t\t\t\t# Prints complete dictionary\n",
    "print(dict.keys())   \t\t\t\t\t# Prints all the keys\n",
    "print(dict.values()) \t\t\t\t\t# Prints all the values!\n",
    "```\n",
    "</div>"
   ]
  },
  {
   "cell_type": "code",
   "execution_count": null,
   "metadata": {},
   "outputs": [],
   "source": [
    "dict = {'Name': 'Zara', 'Age': 7, 'Class': 'First'}\n",
    "print(dict)"
   ]
  },
  {
   "cell_type": "code",
   "execution_count": null,
   "metadata": {},
   "outputs": [],
   "source": [
    "dict['Age'] = 8                         # update existing entry\n",
    "print(dict)"
   ]
  },
  {
   "cell_type": "code",
   "execution_count": null,
   "metadata": {},
   "outputs": [],
   "source": [
    "dict['School'] = \"DPS School\"           # Add new entry\n",
    "print(dict)"
   ]
  },
  {
   "cell_type": "code",
   "execution_count": null,
   "metadata": {},
   "outputs": [],
   "source": [
    "print(\"dict['Age']: \", dict['Age'])     #Prints value at key ‘Age’\n",
    "print(dict)                             # Prints complete dictionary"
   ]
  },
  {
   "cell_type": "code",
   "execution_count": null,
   "metadata": {},
   "outputs": [],
   "source": [
    "print(dict.keys())                      # Prints all the keys"
   ]
  },
  {
   "cell_type": "code",
   "execution_count": null,
   "metadata": {},
   "outputs": [],
   "source": [
    "print(dict.values())                    # Prints all the values!"
   ]
  },
  {
   "cell_type": "markdown",
   "metadata": {},
   "source": [
    "## Deletion\n",
    "\n",
    "Here are some ways to remove an item from a dictionary, thank you [TutorialsPoint](http://www.tutorialspoint.com/python/python_dictionary.htm).\n",
    "\n",
    "<div class=\"alert alert-success\">\n",
    "<b>Try this!</b>\n",
    "\n",
    "```python\n",
    "temp_dict = {'Name': 'Zara', 'Age': 7, 'Class': 'First'}\n",
    "print(temp_dict)\n",
    "```\n",
    "```python\n",
    "del temp_dict['Name']\t        # remove entry with key 'Name'\n",
    "print(temp_dict)\n",
    "```\n",
    "```python\n",
    "temp_data = temp_dict.pop(\"Age\")            # returns entry and removes from dictionary\n",
    "print(temp_dict)\n",
    "```\n",
    "```python\n",
    "del temp_data\n",
    "temp_dict.clear()\t\t\t\t# remove all entries in dict\n",
    "print(temp_dict)\n",
    "del temp_dict\t\t\t\t\t# removes dict from local scope (doesn’t actually delete)\n",
    "```\n",
    "</div>\n",
    "\n",
    "**QUESTION:**  What kind of [exception](https://docs.python.org/3/tutorial/errors.html) will be raised if you try to access your deleted dictionary?"
   ]
  },
  {
   "cell_type": "code",
   "execution_count": null,
   "metadata": {},
   "outputs": [],
   "source": [
    "temp_dict = {'Name': 'Zara', 'Age': 7, 'Class': 'First'}\n",
    "print(temp_dict)"
   ]
  },
  {
   "cell_type": "code",
   "execution_count": null,
   "metadata": {},
   "outputs": [],
   "source": [
    "del temp_dict['Name']            # remove entry with key 'Name'\n",
    "print(temp_dict)"
   ]
  },
  {
   "cell_type": "code",
   "execution_count": null,
   "metadata": {},
   "outputs": [],
   "source": [
    "temp_data = temp_dict.pop(\"Age\")            # returns entry and removes from dictionary\n",
    "print(temp_dict)\n",
    "temp_data"
   ]
  },
  {
   "cell_type": "code",
   "execution_count": null,
   "metadata": {},
   "outputs": [],
   "source": [
    "del temp_data\n",
    "temp_dict.clear()                # remove all entries in dict\n",
    "print(temp_dict)\n",
    "del temp_dict                    # removes dict from local scope (doesn’t actually delete)"
   ]
  },
  {
   "cell_type": "markdown",
   "metadata": {},
   "source": [
    "## Iteration Over Dicts\n",
    "\n",
    "Can be iterated similar to a list, however prior to version 3.6 it would not keep the order - unless it was an [OrderedDict](https://docs.python.org/2/library/collections.html#collections.OrderedDict) datatype.\n",
    "\n",
    "<div class=\"alert alert-success\">\n",
    "<b>Try this!</b>\n",
    "\n",
    "```python\n",
    "phonebook = {'Sally': 8675309, 'Jane': 9745199}\n",
    "for name, number in phonebook.items():\n",
    "    print('You can call {} at {}'.format(name, number))\n",
    "```\n",
    "</div>"
   ]
  },
  {
   "cell_type": "code",
   "execution_count": null,
   "metadata": {},
   "outputs": [],
   "source": [
    "phonebook = {'Sally': 8675309, 'Jane': 9745199}\n",
    "for name, number in phonebook.items():\n",
    "    print('You can call {} at {}'.format(name, number))"
   ]
  }
 ],
 "metadata": {
  "kernelspec": {
   "display_name": "Python 3",
   "language": "python",
   "name": "python3"
  },
  "language_info": {
   "codemirror_mode": {
    "name": "ipython",
    "version": 3
   },
   "file_extension": ".py",
   "mimetype": "text/x-python",
   "name": "python",
   "nbconvert_exporter": "python",
   "pygments_lexer": "ipython3",
   "version": "3.7.7"
  }
 },
 "nbformat": 4,
 "nbformat_minor": 2
}
